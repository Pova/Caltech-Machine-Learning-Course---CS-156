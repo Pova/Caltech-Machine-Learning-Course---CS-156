{
 "cells": [
  {
   "cell_type": "markdown",
   "id": "e3559964",
   "metadata": {},
   "source": [
    "# The Learning Problem"
   ]
  },
  {
   "cell_type": "markdown",
   "id": "77341afe",
   "metadata": {},
   "source": [
    "## Question 1: \n",
    "What types of Machine Learning, if any, best describe the following three scenarios:"
   ]
  },
  {
   "cell_type": "markdown",
   "id": "2a065cf2",
   "metadata": {},
   "source": [
    "<ol>\n",
    "    <li>A coin classification system is created for a vending machine. The developers obtain exact coin specifications from the U.S. Mint and derive\n",
    "a statistical model of the size, weight, and denomination, which the vending machine then uses to classify coins.</li>\n",
    "    <li> Instead of calling the U.S. Mint to obtain coin information, an algorithm is\n",
    "presented with a large set of labeled coins. The algorithm uses this data to\n",
    "infer decision boundaries which the vending machine then uses to classify\n",
    "its coins.\n",
    "</li>\n",
    "    <li>A computer develops a strategy for playing Tic-Tac-Toe by playing repeatedly and adjusting its strategy by penalizing moves that eventually lead\n",
    "to losing.\n",
    "</li>\n",
    "</ol>"
   ]
  },
  {
   "cell_type": "markdown",
   "id": "553ca0aa",
   "metadata": {},
   "source": [
    "Correct Answer: **D**\n",
    "\n",
    "1 = Not learning<br>\n",
    "2 = Supervised learning<br>\n",
    "3 = Reinforcement learning "
   ]
  },
  {
   "cell_type": "markdown",
   "id": "4dc516d5",
   "metadata": {},
   "source": [
    "## Question 2:\n",
    "Which of the following problems are best suited for Machine Learning?"
   ]
  },
  {
   "cell_type": "markdown",
   "id": "1a7ac969",
   "metadata": {},
   "source": [
    "<ol>\n",
    "    <li>Classifying numbers into primes and non-primes.</li>\n",
    "    <li>Detecting potential fraud in credit card charges.</li>\n",
    "    <li>Determining the time it would take a falling object to hit the ground.</li>\n",
    "    <li>Determining the optimal cycle for traffic lights in a busy intersection.</li>\n",
    "</ol>"
   ]
  },
  {
   "cell_type": "markdown",
   "id": "678a6d2e",
   "metadata": {},
   "source": [
    "Correct Answer: **A**"
   ]
  },
  {
   "cell_type": "markdown",
   "id": "c67de4c2",
   "metadata": {},
   "source": [
    "# Bins and Marbles"
   ]
  },
  {
   "cell_type": "markdown",
   "id": "039c1418",
   "metadata": {},
   "source": [
    "## Question 3:\n",
    "We have 2 opaque bags, each containing 2 balls. One bag has 2 black balls and\n",
    "the other has a black ball and a white ball. You pick a bag at random and\n",
    "then pick one of the balls in that bag at random. When you look at the ball,\n",
    "it is black. You now pick the second ball from that same bag. What is the\n",
    "probability that this ball is also black?"
   ]
  },
  {
   "cell_type": "markdown",
   "id": "99a237bc",
   "metadata": {},
   "source": [
    "### Solution:"
   ]
  },
  {
   "cell_type": "markdown",
   "id": "b0ba1600",
   "metadata": {},
   "source": [
    "We need to calculate the following conditional probability:\n",
    "<br>\n",
    "<br>\n",
    "$$ \\mathbb{P}(\\text{Second ball is black} \\ | \\ \\text{First ball is black})$$"
   ]
  },
  {
   "cell_type": "markdown",
   "id": "d1a5473a",
   "metadata": {},
   "source": [
    "This can be calculated with:\n",
    "\n",
    "$$ \\mathbb{P}(\\text{Second ball is black} \\ | \\ \\text{First ball is black}) = \\frac{\\mathbb{P}(\\text{Second ball is black} \\ \\cap \\ \\text{First ball is black})}{\\mathbb{P}(\\text{First ball is black})}$$"
   ]
  },
  {
   "cell_type": "markdown",
   "id": "ca586b3e",
   "metadata": {},
   "source": [
    "The numerator is easy to calculate. The bags are picked at random and we are certain to pick two black balls if the first bag is picked and certain NOT to pick two black balls if the second bag is picked. So: \n",
    "\n",
    "$$\\mathbb{P}(\\text{Second ball is black} \\ \\cap \\ \\text{First ball is black}) = \\frac{1}{2}$$"
   ]
  },
  {
   "cell_type": "markdown",
   "id": "00b8d779",
   "metadata": {},
   "source": [
    "The denominator is more complicated to calculate but we can use the total law of probability:\n",
    "\n",
    "$$\n",
    "\\mathbb{P}(\\text{First ball is black})= \\mathbb{P}(\\text{First ball is black}\\ | \\ \\text{picked bag 1})\\mathbb{P}(\\text{picked bag 1}) + \\mathbb{P}(\\text{First ball is black}\\ | \\ \\text{picked bag 2})\\mathbb{P}(\\text{picked bag 2})\\\\\n",
    "= 1\\cdot \\frac{1}{2} + \\frac{1}{2}\\cdot \\frac{1}{2}\\\\ \n",
    "= \\frac{3}{4}\n",
    "$$"
   ]
  },
  {
   "cell_type": "markdown",
   "id": "64d189c0",
   "metadata": {},
   "source": [
    "Overall we have:\n",
    "\n",
    "$$\n",
    "\\mathbb{P}(\\text{Second ball is black} \\ | \\ \\text{First ball is black}) = \\frac{\\frac{1}{2}}{\\frac{3}{4}} = \\frac{2}{3}\n",
    "$$"
   ]
  },
  {
   "cell_type": "markdown",
   "id": "49e681a0",
   "metadata": {},
   "source": [
    "Correct Answer: **D**"
   ]
  },
  {
   "cell_type": "markdown",
   "id": "98327a5f",
   "metadata": {},
   "source": [
    "Consider a sample of 10 marbles drawn from a bin containing red and green marbles.\n",
    "The probability that any marble we draw is red is µ = 0.55 (independently, with\n",
    "replacement). We address the probability of getting no red marbles (ν = 0) in the\n",
    "following cases:"
   ]
  },
  {
   "cell_type": "markdown",
   "id": "6c27703e",
   "metadata": {},
   "source": [
    "## Question 4:\n",
    "We draw only one such sample. Compute the probability that ν = 0"
   ]
  },
  {
   "cell_type": "markdown",
   "id": "9050c92b",
   "metadata": {},
   "source": [
    "Since each \"picking marbles out of the bin\" event is independent this can be easily calculated as:\n",
    "\n",
    "$$\n",
    "\\mathbb{P}(\\text{picking 0 red marbles}) = \\mathbb{P}(\\text{picking 10 green marbles}) = (0.45)^{10} = 0.00034050628 = 3.405 \\times 10^{-4}\n",
    "$$"
   ]
  },
  {
   "cell_type": "markdown",
   "id": "e416bfeb",
   "metadata": {},
   "source": [
    "Correct Answer: **B**"
   ]
  },
  {
   "cell_type": "markdown",
   "id": "57fad77f",
   "metadata": {},
   "source": [
    "## Question 5:\n",
    "We draw 1,000 independent samples. Compute the probability that (at least)\n",
    "one of the samples has ν = 0."
   ]
  },
  {
   "cell_type": "markdown",
   "id": "c325c7a0",
   "metadata": {},
   "source": [
    "Easier to calculate the complement: \n",
    "\n",
    "$$\n",
    "\\mathbb{P}(\\text{At least one sample with} \\ \\nu = 0) = 1 - \\mathbb{P}(\\text{No samples have} \\ \\nu = 0) = 1 - (1 - 3.405 \\times 10^{-4})^{1000} = 0.28863119133 \\approx 0.289\n",
    "$$"
   ]
  },
  {
   "cell_type": "markdown",
   "id": "92096843",
   "metadata": {},
   "source": [
    "Correct Answer: **C**"
   ]
  },
  {
   "cell_type": "markdown",
   "id": "007ad10a",
   "metadata": {},
   "source": [
    "# Feasibility of Learning"
   ]
  },
  {
   "cell_type": "markdown",
   "id": "3459c08d",
   "metadata": {},
   "source": [
    "## Question 6: "
   ]
  },
  {
   "cell_type": "markdown",
   "id": "b5e44760",
   "metadata": {},
   "source": [
    "8 possible target functions: $f_1, \\cdots,f_8$"
   ]
  },
  {
   "cell_type": "markdown",
   "id": "4781e853",
   "metadata": {},
   "source": [
    "Option (a): g returns 1 for all 3 points\n",
    "\n",
    "Score = (1)x3 + (3)x2 + (3)x1 + (1)x0 = **12**"
   ]
  },
  {
   "cell_type": "markdown",
   "id": "439cff71",
   "metadata": {},
   "source": [
    "Option (b): g returns 0 for all 3 points\n",
    "\n",
    "Score = (1)x3 + (3)x2 + (3)x1 + (1)x0 = **12**"
   ]
  },
  {
   "cell_type": "markdown",
   "id": "dede8f0a",
   "metadata": {},
   "source": [
    "Option (c): g is the XOR function (returns 1 if the number of 1s is odd and 0 if the number of 1s is even)\n",
    "\n",
    "Score = (1)x3 + (3)x2 + (3)x1 + (1)x0 = **12**"
   ]
  },
  {
   "cell_type": "markdown",
   "id": "b695aa90",
   "metadata": {},
   "source": [
    "Option (d): g is opposite XOR\n",
    "\n",
    "Score = (1)x3 + (3)x2 + (3)x1 + (1)x0 = **12**"
   ]
  },
  {
   "cell_type": "markdown",
   "id": "3a495ae7",
   "metadata": {},
   "source": [
    "Correct Answer: **E** (all equivalent)"
   ]
  },
  {
   "cell_type": "markdown",
   "id": "0956b319",
   "metadata": {},
   "source": [
    "# The Perceptron Learning Algorithm"
   ]
  },
  {
   "cell_type": "markdown",
   "id": "c4c6fd17",
   "metadata": {},
   "source": [
    "Need to calculate two things: 1) number of iterations needed for convergence and 2) probability of misclassifying points"
   ]
  },
  {
   "cell_type": "markdown",
   "id": "d286a563",
   "metadata": {},
   "source": [
    "First we perform the algorithm for 1000 runs with $N=10$"
   ]
  },
  {
   "cell_type": "code",
   "execution_count": 1,
   "id": "abbaae9b",
   "metadata": {},
   "outputs": [],
   "source": [
    "import numpy as np\n",
    "import matplotlib.pyplot as plt\n",
    "import random"
   ]
  },
  {
   "cell_type": "code",
   "execution_count": 2,
   "id": "42d5d775",
   "metadata": {},
   "outputs": [],
   "source": [
    "# function that evaluates the correct labels for a point (a,b)\n",
    "# output will be a +1 or -1 \n",
    "\n",
    "def eval_f(a,b):\n",
    "    num = slope*a + intercept \n",
    "    if (num<b):\n",
    "        return mult \n",
    "    elif (num>b):\n",
    "        return -1*mult\n",
    "    else:\n",
    "        print('EQUAL???')"
   ]
  },
  {
   "cell_type": "markdown",
   "id": "14e5c53e",
   "metadata": {},
   "source": [
    "## Basic structure of the algorithm:"
   ]
  },
  {
   "cell_type": "code",
   "execution_count": 3,
   "id": "43f04373",
   "metadata": {
    "scrolled": false
   },
   "outputs": [
    {
     "name": "stdout",
     "output_type": "stream",
     "text": [
      "-0.3028428938434681 0.28232306379876443 1\n"
     ]
    }
   ],
   "source": [
    "# initialize a target function f\n",
    "\n",
    "# generate two points\n",
    "pts = []\n",
    "for i in range(4):\n",
    "    pts.append(random.uniform(-1,1))\n",
    "    \n",
    "# format = [x_1,y_1,x_2,y_2]\n",
    "\n",
    "# calculate slope and intercept\n",
    "\n",
    "slope = (pts[3]-pts[1])/(pts[2]-pts[0])\n",
    "intercept = pts[1] - slope*pts[0]\n",
    "\n",
    "mult = random.choice([-1,1])\n",
    "\n",
    "print(slope,intercept,mult)"
   ]
  },
  {
   "cell_type": "code",
   "execution_count": 4,
   "id": "c6408fec",
   "metadata": {},
   "outputs": [
    {
     "name": "stdout",
     "output_type": "stream",
     "text": [
      "[(array([ 1.        , -0.71917748,  0.60458717]), 1), (array([ 1.        ,  0.2267957 , -0.75989838]), -1), (array([ 1.        ,  0.33753758, -0.97179439]), -1), (array([ 1.        , -0.57021739,  0.34253383]), -1), (array([1.       , 0.3318747, 0.5831938]), 1), (array([ 1.        , -0.31099435, -0.40476591]), -1), (array([ 1.        , -0.60120928, -0.14995681]), -1), (array([ 1.        ,  0.1109236 , -0.26060989]), -1), (array([ 1.        , -0.62944061,  0.17353714]), -1), (array([ 1.        , -0.86767746,  0.54985848]), 1)]\n"
     ]
    }
   ],
   "source": [
    "#Generate 10 datapoints and use the function above to assign them labels.\n",
    "\n",
    "train_set = []\n",
    "\n",
    "x_s_pos = []\n",
    "x_s_neg = []\n",
    "y_s_pos = []\n",
    "y_s_neg = []\n",
    "\n",
    "\n",
    "for _ in range(10):\n",
    "    x = random.uniform(-1,1)\n",
    "    y = random.uniform(-1,1)\n",
    "    label = eval_f(x,y)\n",
    "    train_set.append((np.array([1.0,x,y]),label))\n",
    "    if label>0:\n",
    "        x_s_pos.append(x)\n",
    "        y_s_pos.append(y)\n",
    "    else:\n",
    "        x_s_neg.append(x)\n",
    "        y_s_neg.append(y)\n",
    "\n",
    "print(train_set)\n"
   ]
  },
  {
   "cell_type": "code",
   "execution_count": 5,
   "id": "250d61ef",
   "metadata": {},
   "outputs": [
    {
     "data": {
      "image/png": "[encoded data removed]",
      "text/plain": [
       "<Figure size 432x432 with 1 Axes>"
      ]
     },
     "metadata": {
      "needs_background": "light"
     },
     "output_type": "display_data"
    }
   ],
   "source": [
    "#draws line generated above\n",
    "\n",
    "fig = plt.figure(figsize=(6,6))\n",
    "ax = fig.add_subplot(111)\n",
    "\n",
    "x = np.linspace(-1.0,1.0,10)\n",
    "y = x*slope+intercept\n",
    "\n",
    "plt.xticks([-1.0,0,1.0])\n",
    "plt.yticks([-1.0,0,1.0])\n",
    "\n",
    "ax.set(xlim = (-1,1), ylim=(-1,1))\n",
    "ax.grid(True)\n",
    "\n",
    "plt.plot(x_s_neg,y_s_neg,'o', color='red')\n",
    "plt.plot(x_s_pos,y_s_pos,'o', color='blue')\n",
    "plt.plot(x,y, color='purple')\n",
    "\n",
    "plt.show()"
   ]
  },
  {
   "cell_type": "code",
   "execution_count": 6,
   "id": "80624cd7",
   "metadata": {
    "scrolled": true
   },
   "outputs": [
    {
     "name": "stdout",
     "output_type": "stream",
     "text": [
      "new w = [ 1.         -0.71917748  0.60458717]\n",
      "new w = [ 0.         -0.94597318  1.36448555]\n",
      "new w = [-1.         -0.37575579  1.02195172]\n",
      "new w = [ 0.         -1.09493327  1.62653889]\n",
      "new w = [-1.         -0.52471588  1.28400506]\n",
      "new w = [ 0.         -0.19284117  1.86719885]\n",
      "new w = [-1.          0.37737622  1.52466502]\n",
      "new w = [ 0.         -0.34180126  2.12925219]\n",
      "new w = [-1.          0.22841613  1.78671835]\n",
      "new w = [ 0.         -0.49076135  2.39130552]\n",
      "new w = [-1.          0.07945604  2.04877169]\n",
      "PLA converged\n",
      "num of iterations = 11\n"
     ]
    }
   ],
   "source": [
    "# PLA \n",
    "\n",
    "#Initialize w with zeros\n",
    "\n",
    "w = np.array([0,0,0])\n",
    "\n",
    "#Iterate through training set to find mis-categorized point (where label doesnt match hypothesis)\n",
    "\n",
    "finished = False #keeps track of when algorithm terminates\n",
    "iterations = 0\n",
    "\n",
    "while ((finished == False) and iterations<10000):\n",
    "\n",
    "    for pt in train_set:\n",
    "        if np.sign(np.dot(w,pt[0])) != pt[1]:\n",
    "            #label is not correct\n",
    "            #update w\n",
    "            w = w + pt[1]*pt[0]\n",
    "            print(f'new w = {w}')\n",
    "            iterations += 1\n",
    "            break\n",
    "        else:\n",
    "            continue\n",
    "    else:\n",
    "        #this triggers if alg terminates\n",
    "        finished = True\n",
    "        print('PLA converged')\n",
    "        \n",
    "print(f'num of iterations = {iterations}')"
   ]
  },
  {
   "cell_type": "code",
   "execution_count": 7,
   "id": "97f34080",
   "metadata": {},
   "outputs": [
    {
     "data": {
      "image/png": "[encoded data removed]",
      "text/plain": [
       "<Figure size 432x432 with 1 Axes>"
      ]
     },
     "metadata": {
      "needs_background": "light"
     },
     "output_type": "display_data"
    }
   ],
   "source": [
    "#draws line predicted by PLA\n",
    "\n",
    "fig = plt.figure(figsize=(6,6))\n",
    "ax = fig.add_subplot(111)\n",
    "\n",
    "x = np.linspace(-1.0,1.0,10)\n",
    "y = -(w[0] + x*w[1])/w[2] \n",
    "\n",
    "plt.xticks([-1.0,0,1.0])\n",
    "plt.yticks([-1.0,0,1.0])\n",
    "\n",
    "ax.set(xlim = (-1,1), ylim=(-1,1))\n",
    "ax.grid(True)\n",
    "\n",
    "plt.plot(x_s_neg,y_s_neg,'o', color='red')\n",
    "plt.plot(x_s_pos,y_s_pos,'o', color='blue')\n",
    "plt.plot(x,y, color='purple')\n",
    "\n",
    "plt.show()"
   ]
  },
  {
   "cell_type": "markdown",
   "id": "b3b6fc4a",
   "metadata": {},
   "source": [
    "**BUG**\n",
    "\n",
    "Forgot to implement x_0 = 1 and introduce an extra w_0 weight representing the threshold.\n",
    "\n",
    "After fix algorithm worked as intended."
   ]
  },
  {
   "cell_type": "markdown",
   "id": "c06964b4",
   "metadata": {},
   "source": [
    "# PLA with N = 10"
   ]
  },
  {
   "cell_type": "code",
   "execution_count": 20,
   "id": "e09ddd4b",
   "metadata": {
    "scrolled": true
   },
   "outputs": [
    {
     "name": "stdout",
     "output_type": "stream",
     "text": [
      "Average number of iterations = 14.806\n",
      "Average probability of disagreement = 0.10945300000000002\n"
     ]
    }
   ],
   "source": [
    "from statistics import mean\n",
    "\n",
    "# Repeat PLA for 1000 runs. Keep track of iterations needed each run\n",
    "\n",
    "iter_count = []\n",
    "agree_probs = []\n",
    "\n",
    "for _ in range(1000):\n",
    "\n",
    "    # initialize a target function f\n",
    "    pts = []\n",
    "    for i in range(4):\n",
    "        pts.append(random.uniform(-1,1))\n",
    "    slope = (pts[3]-pts[1])/(pts[2]-pts[0])\n",
    "    intercept = pts[1] - slope*pts[0]\n",
    "    mult = random.choice([-1,1])\n",
    "    \n",
    "    # generate training set of size N = 10\n",
    "    train_set = []\n",
    "    for num in range(10):\n",
    "        x = random.uniform(-1,1)\n",
    "        y = random.uniform(-1,1)\n",
    "        label = eval_f(x,y)\n",
    "        train_set.append((np.array([1.0,x,y]),label))\n",
    "        \n",
    "    # run the PLA algorithm\n",
    "    w = np.array([0,0,0])\n",
    "    finished = False \n",
    "    iterations = 0\n",
    "    while (finished != True):\n",
    "        for pt in train_set:\n",
    "            if np.sign(np.dot(w,pt[0])) != pt[1]:\n",
    "                w = w + pt[1]*pt[0]\n",
    "                iterations += 1\n",
    "                break\n",
    "            else:\n",
    "                continue\n",
    "        else:\n",
    "            finished = True\n",
    "    iter_count.append(iterations)\n",
    "    \n",
    "    #testing disagreement\n",
    "    agree_count = 0\n",
    "    for j in range(1000):\n",
    "        test_x = random.uniform(-1,1)\n",
    "        test_y = random.uniform(-1,1)\n",
    "        test_pt = np.array([1,test_x,test_y])\n",
    "        real_label = eval_f(test_x,test_y)\n",
    "        predicted_label = np.sign(np.dot(w,test_pt))\n",
    "        if real_label == predicted_label:\n",
    "            agree_count += 1\n",
    "        else:\n",
    "            continue\n",
    "    agree_prob = agree_count/1000\n",
    "    agree_probs.append(agree_prob)\n",
    "    \n",
    "print(f'Average number of iterations = {mean(iter_count)}')\n",
    "print(f'Average probability of disagreement = {1-mean(agree_probs)}')"
   ]
  },
  {
   "cell_type": "markdown",
   "id": "9b1f75b9",
   "metadata": {},
   "source": [
    "## Question 7:"
   ]
  },
  {
   "cell_type": "markdown",
   "id": "be2851ac",
   "metadata": {},
   "source": [
    "Take N = 10. How many iterations does it take on average for the PLA to converge for N = 10 training points?"
   ]
  },
  {
   "cell_type": "markdown",
   "id": "fab09d21",
   "metadata": {},
   "source": [
    "Correct Answer: **B** (closest to 15)"
   ]
  },
  {
   "cell_type": "markdown",
   "id": "40bc24db",
   "metadata": {},
   "source": [
    "## Question 8:"
   ]
  },
  {
   "cell_type": "markdown",
   "id": "ba292a6f",
   "metadata": {},
   "source": [
    "Which of the following is closest to $\\mathbb{P}(f(\\mathbf{x}) \\neq g(\\mathbf{x}))$ for N = 10"
   ]
  },
  {
   "cell_type": "markdown",
   "id": "75c25ae7",
   "metadata": {},
   "source": [
    "Correct Answer: **C** (closest to 0.1)"
   ]
  },
  {
   "cell_type": "markdown",
   "id": "08eac429",
   "metadata": {},
   "source": [
    "# PLA with N = 100"
   ]
  },
  {
   "cell_type": "code",
   "execution_count": 22,
   "id": "24e31ba5",
   "metadata": {},
   "outputs": [
    {
     "name": "stdout",
     "output_type": "stream",
     "text": [
      "Average number of iterations = 217.189\n",
      "Average probability of disagreement = 0.013353999999999977\n"
     ]
    }
   ],
   "source": [
    "# Repeat PLA for 1000 runs. Keep track of iterations needed each run\n",
    "\n",
    "iter_count = []\n",
    "agree_probs = []\n",
    "\n",
    "for _ in range(1000):\n",
    "\n",
    "    # initialize a target function f\n",
    "    pts = []\n",
    "    for i in range(4):\n",
    "        pts.append(random.uniform(-1,1))\n",
    "    slope = (pts[3]-pts[1])/(pts[2]-pts[0])\n",
    "    intercept = pts[1] - slope*pts[0]\n",
    "    mult = random.choice([-1,1])\n",
    "    \n",
    "    # generate training set of size N = 100\n",
    "    train_set = []\n",
    "    for num in range(100):\n",
    "        x = random.uniform(-1,1)\n",
    "        y = random.uniform(-1,1)\n",
    "        label = eval_f(x,y)\n",
    "        train_set.append((np.array([1.0,x,y]),label))\n",
    "        \n",
    "    # run the PLA algorithm\n",
    "    w = np.array([0,0,0])\n",
    "    finished = False \n",
    "    iterations = 0\n",
    "    while (finished != True):\n",
    "        for pt in train_set:\n",
    "            if np.sign(np.dot(w,pt[0])) != pt[1]:\n",
    "                w = w + pt[1]*pt[0]\n",
    "                iterations += 1\n",
    "                break\n",
    "            else:\n",
    "                continue\n",
    "        else:\n",
    "            finished = True\n",
    "    iter_count.append(iterations)\n",
    "    \n",
    "    #testing disagreement\n",
    "    agree_count = 0\n",
    "    for j in range(1000):\n",
    "        test_x = random.uniform(-1,1)\n",
    "        test_y = random.uniform(-1,1)\n",
    "        test_pt = np.array([1,test_x,test_y])\n",
    "        real_label = eval_f(test_x,test_y)\n",
    "        predicted_label = np.sign(np.dot(w,test_pt))\n",
    "        if real_label == predicted_label:\n",
    "            agree_count += 1\n",
    "        else:\n",
    "            continue\n",
    "    agree_prob = agree_count/1000\n",
    "    agree_probs.append(agree_prob)\n",
    "    \n",
    "print(f'Average number of iterations = {mean(iter_count)}')\n",
    "print(f'Average probability of disagreement = {1-mean(agree_probs)}')"
   ]
  },
  {
   "cell_type": "markdown",
   "id": "26b13b63",
   "metadata": {},
   "source": [
    "## Question 9: "
   ]
  },
  {
   "cell_type": "markdown",
   "id": "0006f3fd",
   "metadata": {},
   "source": [
    "Now, try N = 100. How many iterations does it take on average for the PLA to converge for N = 100 training points?"
   ]
  },
  {
   "cell_type": "markdown",
   "id": "53c01829",
   "metadata": {},
   "source": [
    "Correct Answer: **B** (closest to 100)"
   ]
  },
  {
   "cell_type": "markdown",
   "id": "7b8de712",
   "metadata": {},
   "source": [
    "## Question 10:"
   ]
  },
  {
   "cell_type": "markdown",
   "id": "c510673a",
   "metadata": {},
   "source": [
    "Which of the following is closest to $\\mathbb{P}(f(\\mathbf{x}) \\neq g(\\mathbf{x}))$ for N = 100"
   ]
  },
  {
   "cell_type": "markdown",
   "id": "178c3a8d",
   "metadata": {},
   "source": [
    "Correct Answer: **B** (closest to 0.01)"
   ]
  },
  {
   "cell_type": "code",
   "execution_count": null,
   "id": "038a7e01",
   "metadata": {},
   "outputs": [],
   "source": []
  }
 ],
 "metadata": {
  "kernelspec": {
   "display_name": "Python 3 (ipykernel)",
   "language": "python",
   "name": "python3"
  },
  "language_info": {
   "codemirror_mode": {
    "name": "ipython",
    "version": 3
   },
   "file_extension": ".py",
   "mimetype": "text/x-python",
   "name": "python",
   "nbconvert_exporter": "python",
   "pygments_lexer": "ipython3",
   "version": "3.8.10"
  }
 },
 "nbformat": 4,
 "nbformat_minor": 5
}
