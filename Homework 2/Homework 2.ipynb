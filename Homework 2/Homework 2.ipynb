{
 "cells": [
  {
   "cell_type": "markdown",
   "id": "3c429e15",
   "metadata": {},
   "source": [
    "# Hoeffding Inequality"
   ]
  },
  {
   "cell_type": "code",
   "execution_count": 3,
   "id": "9118d819",
   "metadata": {},
   "outputs": [],
   "source": [
    "import numpy as np\n",
    "import matplotlib.pyplot as plt\n",
    "import random\n",
    "from statistics import mean"
   ]
  },
  {
   "cell_type": "code",
   "execution_count": 7,
   "id": "02daf477",
   "metadata": {},
   "outputs": [],
   "source": [
    "# flip 1000 coins 10 times\n",
    "from math import floor\n",
    "\n",
    "def coin_experiment(n):\n",
    "    #n = number of times the experiment is run (n=100,000 in the HW)\n",
    "    \n",
    "    v_1_list = [] #v_1\n",
    "    v_2_list = [] #v_rand\n",
    "    v_3_list = [] #v_min\n",
    "\n",
    "    for _ in range(n):\n",
    "        #each trial\n",
    "        \n",
    "        coin_flips = []\n",
    "        \n",
    "        #for finding v_min\n",
    "        min_freq = 10\n",
    "        min_freq_idx = None\n",
    "        \n",
    "        for coin in range(1000):\n",
    "            #each coin \n",
    "            \n",
    "            flips = []    \n",
    "            for flip_idx in range(10):\n",
    "                #flip = floor(2*random.random()) #0 = Tails, 1 = Heads\n",
    "                flip = floor(2*np.random.uniform(0,1)) #0 = Tails, 1 = Heads\n",
    "                flips.append(flip)\n",
    "            \n",
    "            if sum(flips)<min_freq:\n",
    "                min_freq = sum(flips)\n",
    "                min_freq_idx = coin\n",
    "            \n",
    "            coin_flips.append(flips)\n",
    "            \n",
    "        v_1_list.append(mean(coin_flips[0]))\n",
    "        rand_idx = floor(1000*random.random())\n",
    "        v_2_list.append(mean(coin_flips[rand_idx]))\n",
    "        \n",
    "#         print(f'min head count @ index = {min_freq_idx}')\n",
    "#         print(f'min head amount = {sum(coin_flips[min_freq_idx])}')\n",
    "#         print(f'other head amounts:')\n",
    "#         print(f'{[sum(flips) for flips in coin_flips]}')\n",
    "        \n",
    "        \n",
    "        v_3_list.append(mean(coin_flips[min_freq_idx]))\n",
    "    \n",
    "        if _%10000==0:\n",
    "            print(f'trial number: {_}')\n",
    "\n",
    "        \n",
    "    return [v_1_list,v_2_list,v_3_list]"
   ]
  },
  {
   "cell_type": "code",
   "execution_count": null,
   "id": "b5c3797a",
   "metadata": {
    "scrolled": false
   },
   "outputs": [
    {
     "name": "stdout",
     "output_type": "stream",
     "text": [
      "trial number: 0\n"
     ]
    }
   ],
   "source": [
    "%prun results = coin_experiment(100000)"
   ]
  },
  {
   "cell_type": "code",
   "execution_count": 27,
   "id": "441f993e",
   "metadata": {},
   "outputs": [
    {
     "data": {
      "text/plain": [
       "0.037613"
      ]
     },
     "execution_count": 27,
     "metadata": {},
     "output_type": "execute_result"
    }
   ],
   "source": [
    "mean(results[2])\n",
    "\n",
    "#this is the average of v_min over all 100,000 trials"
   ]
  },
  {
   "cell_type": "markdown",
   "id": "1ee8af14",
   "metadata": {},
   "source": [
    "## Question 1:\n",
    "\n",
    "Correct Answer: **B** (average of $\\nu_{min}$ is closest to 0.01)"
   ]
  },
  {
   "cell_type": "markdown",
   "id": "97c015c9",
   "metadata": {},
   "source": [
    "## Question 2:\n",
    "\n",
    "(Single Bin) Hoeffding's Inequality: $$\\mathbb{P}[|E_{in}(h)-E_{out}(h)|>\\epsilon] \\leq 2e^{-2\\epsilon^2N}$$"
   ]
  },
  {
   "cell_type": "markdown",
   "id": "521c57cb",
   "metadata": {},
   "source": [
    "Correct Answer: **D** ($c_1$ and $c_{rand}$)"
   ]
  },
  {
   "cell_type": "code",
   "execution_count": 28,
   "id": "13a4d540",
   "metadata": {},
   "outputs": [
    {
     "data": {
      "image/png": "[encoded data removed]",
      "text/plain": [
       "<Figure size 432x288 with 1 Axes>"
      ]
     },
     "metadata": {
      "needs_background": "light"
     },
     "output_type": "display_data"
    }
   ],
   "source": [
    "bins=np.linspace(0,1,10)\n",
    "x_s=np.linspace(0,1,100)\n",
    "\n",
    "y = 2*np.exp(-20*np.power(x_s-0.5,2))\n",
    "\n",
    "plt.plot(x_s,y)\n",
    "\n",
    "plt.hist(x=results,bins=bins,density=True);"
   ]
  },
  {
   "cell_type": "markdown",
   "id": "1f698a0a",
   "metadata": {},
   "source": [
    "# Error and Noise"
   ]
  },
  {
   "cell_type": "markdown",
   "id": "9d0e83eb",
   "metadata": {},
   "source": [
    "Consider the bin model for a hypothesis $h$ that makes an error with probability $µ$ in approximating a deterministic target function $f$ (both $h$ and $f$ are binary functions). If we use the same $h$ to approximate a noisy version of $f$ given by:\n",
    "\n",
    "\n",
    "\\begin{equation}\n",
    "\\mathbb{P}(y \\ | \\ \\mathbf{x}) = \n",
    "    \\begin{cases}\n",
    "        \\lambda & \\text{if } y = f(\\mathbf{x})\\\\\n",
    "        1 - \\lambda & \\text{if } y \\neq f(\\mathbf{x})\n",
    "    \\end{cases}\n",
    "\\end{equation}\n"
   ]
  },
  {
   "cell_type": "markdown",
   "id": "276b7b96",
   "metadata": {},
   "source": [
    "## Question 3:"
   ]
  },
  {
   "cell_type": "markdown",
   "id": "a6f6394e",
   "metadata": {},
   "source": [
    "What is the probability of error that $h$ makes in approximating $y$?"
   ]
  },
  {
   "cell_type": "markdown",
   "id": "6fff08e0",
   "metadata": {},
   "source": [
    "We consider two separate ways $h$ can make an error:\n",
    "\n",
    "- If $h$ makes an error approximating $f$ **and** $y = f(\\mathbf{x})$\n",
    "- If $h$ doesn't make an error approximating $f$ but $y \\neq f(\\mathbf{x})$\n",
    "\n",
    "Since these are independent events we can multiply their separate probabilities to get:\n",
    "\n",
    "$$\n",
    "\\text{Probability} = \\mu \\cdot \\lambda + (1-\\mu) \\cdot (1-\\lambda)\n",
    "$$\n",
    "\n",
    "Correct Answer: **E**"
   ]
  },
  {
   "cell_type": "markdown",
   "id": "07da48bc",
   "metadata": {},
   "source": [
    "## Question 4:"
   ]
  },
  {
   "cell_type": "markdown",
   "id": "1a5c3a4e",
   "metadata": {},
   "source": [
    "At what value of $λ$ will the performance of $h$ be independent of $µ$?"
   ]
  },
  {
   "cell_type": "markdown",
   "id": "2ef12539",
   "metadata": {},
   "source": [
    "This is a simple calculation:\n",
    "\n",
    "Collect together all terms involving $\\mu$:\n",
    "\n",
    "$$\n",
    "\\mu \\cdot \\lambda + (1-\\mu) \\cdot (1-\\lambda) = \\mu\\lambda + 1 - \\mu - \\lambda + \\mu\\lambda = \\mu(2\\lambda-1) + 1 - \\lambda\n",
    "$$\n",
    "\n",
    "So we only need to satisfy: $2\\lambda - 1 = 0 \\implies \\lambda = \\frac{1}{2}$\n",
    "\n",
    "Correct Answer: **B**"
   ]
  },
  {
   "cell_type": "markdown",
   "id": "bb17d8c8",
   "metadata": {},
   "source": [
    "# Linear Regression"
   ]
  },
  {
   "cell_type": "code",
   "execution_count": 8,
   "id": "f2039f45",
   "metadata": {},
   "outputs": [],
   "source": [
    "def eval_f(a,b):\n",
    "    num = slope*a + intercept \n",
    "    if (num<b):\n",
    "        return mult \n",
    "    else:\n",
    "        return -1*mult"
   ]
  },
  {
   "cell_type": "code",
   "execution_count": 9,
   "id": "0ca6cb8d",
   "metadata": {},
   "outputs": [],
   "source": [
    "# pts is a list of two points used to determine the linear function\n",
    "# flip is a boolean that changes which side of the line evaluates to +1\n",
    "# x is a vector we want to evaluate the function on\n",
    "# a,b,x are numpy arrays\n",
    "\n",
    "def evaluate_f(pts,flip,x):\n",
    "    a = pts[0]\n",
    "    b = pts[1]\n",
    "    \n",
    "    slope = (b[1]-a[1])/(b[0]-a[0])\n",
    "    intercept = a[1] - slope*a[0]\n",
    "    \n",
    "    f_x = np.sign(x[1] - slope*x[0] - intercept)\n",
    "    \n",
    "    if flip == False:\n",
    "        return f_x\n",
    "    else:\n",
    "        return -1*f_x"
   ]
  },
  {
   "cell_type": "code",
   "execution_count": 13,
   "id": "9a50c053",
   "metadata": {},
   "outputs": [],
   "source": [
    "from numpy.linalg import inv\n",
    "\n",
    "in_errors = []\n",
    "out_errors = []\n",
    "\n",
    "for experiment in range(1000):\n",
    "\n",
    "    #generate target function\n",
    "    pts = []\n",
    "    for i in range(4):\n",
    "        pts.append(random.uniform(-1,1))\n",
    "    slope = (pts[3]-pts[1])/(pts[2]-pts[0])\n",
    "    intercept = pts[1] - slope*pts[0]\n",
    "    mult = random.choice([-1,1])\n",
    "\n",
    "    #generate training set\n",
    "    train_set_x = []\n",
    "    train_set_y = []\n",
    "    for _ in range(100):\n",
    "        x = random.uniform(-1,1)\n",
    "        y = random.uniform(-1,1)\n",
    "        label = eval_f(x,y)\n",
    "        train_set_x.append(np.array([1.0,x,y]))\n",
    "        train_set_y.append(label)\n",
    "        \n",
    "    X = np.matrix(train_set_x)\n",
    "    y = np.array(train_set_y)\n",
    "    \n",
    "    #generate testing set for out of sample performance:\n",
    "    \n",
    "    test_set_x = []\n",
    "    test_set_y = []\n",
    "    \n",
    "    for _ in range(1000):\n",
    "        test_x = random.uniform(-1,1)\n",
    "        test_y = random.uniform(-1,1)\n",
    "        label = eval_f(test_x,test_y)\n",
    "        test_set_x.append(np.array([1.0,test_x,test_y]))\n",
    "        test_set_y.append(label)    \n",
    "    \n",
    "    #linear regression\n",
    "    \n",
    "    #calculate pseudo-inverse of X\n",
    "    A = inv(np.matmul(X.transpose(),X))\n",
    "    X_dag = np.matmul(A,X.transpose())\n",
    "    \n",
    "    #get weights w\n",
    "    w = np.matmul(X_dag,y)\n",
    "    \n",
    "    #g = sign(w*x)\n",
    "    \n",
    "    #calculate in-sample error \n",
    "    count = 0\n",
    "    for idx in range(100):\n",
    "        if np.sign(np.dot(w,train_set_x[idx])) != train_set_y[idx]:\n",
    "            count += 1\n",
    "    \n",
    "    in_errors.append(count/100)\n",
    "    #print(f'In-sample error rate = {count/100}')\n",
    "    \n",
    "    #calculate out-of-sample error (generate 1000 new points)\n",
    "    \n",
    "    count = 0\n",
    "    for idx in range(1000):\n",
    "        if np.sign(np.dot(w,test_set_x[idx])) != test_set_y[idx]:\n",
    "            count += 1\n",
    "    \n",
    "    out_errors.append(count/1000)        \n",
    "    #print(f'Out-of-sample error rate = {count/1000}')"
   ]
  },
  {
   "cell_type": "markdown",
   "id": "ddc7700f",
   "metadata": {},
   "source": [
    "## Question 5:"
   ]
  },
  {
   "cell_type": "markdown",
   "id": "b38a63d5",
   "metadata": {},
   "source": [
    "Take $N = 100$. Use Linear Regression to find g and evaluate $E_{in}$, the fraction of in-sample points which got classified incorrectly. Repeat the experiment 1000 times and take the average. Which of the following values is closest to the average $E_{in}$?"
   ]
  },
  {
   "cell_type": "code",
   "execution_count": 14,
   "id": "41517589",
   "metadata": {},
   "outputs": [
    {
     "name": "stdout",
     "output_type": "stream",
     "text": [
      "average In-sample error = 0.03839\n"
     ]
    }
   ],
   "source": [
    "print(f'average In-sample error = {mean(in_errors)}')"
   ]
  },
  {
   "cell_type": "markdown",
   "id": "56f96f9b",
   "metadata": {},
   "source": [
    "Correct Answer: **C** (in-sample error is closest to 0.01)"
   ]
  },
  {
   "cell_type": "markdown",
   "id": "62be66ff",
   "metadata": {},
   "source": [
    "## Question 6:"
   ]
  },
  {
   "cell_type": "markdown",
   "id": "235d3e60",
   "metadata": {},
   "source": [
    "Now, generate 1000 fresh points and use them to estimate the out-of-sample error $E_{out}$ of g that you got in Problem 5 (number of misclassified out-of-sample points / total number of out-of-sample points). Again, run the experiment 1000 times and take the average. Which value is closest to the average $E_{out}$?"
   ]
  },
  {
   "cell_type": "code",
   "execution_count": 15,
   "id": "c72843d5",
   "metadata": {},
   "outputs": [
    {
     "name": "stdout",
     "output_type": "stream",
     "text": [
      "average Out-of-sample error = 0.046602\n"
     ]
    }
   ],
   "source": [
    "print(f'average Out-of-sample error = {mean(out_errors)}')"
   ]
  },
  {
   "cell_type": "markdown",
   "id": "39eec2f0",
   "metadata": {},
   "source": [
    "Correct Answer: **C** (in-sample error is closest to 0.01)"
   ]
  },
  {
   "cell_type": "markdown",
   "id": "db153c4a",
   "metadata": {},
   "source": [
    "## Question 7:"
   ]
  },
  {
   "cell_type": "markdown",
   "id": "374b67e0",
   "metadata": {},
   "source": [
    "Now, take $N = 10$. After finding the weights using Linear Regression, use them as a vector of initial weights for the Perceptron Learning Algorithm. Run PLA until it converges to a final vector of weights that completely separates all the in-sample points. Among the choices below, what is the closest value to the average number of iterations (over 1000 runs) that PLA takes to converge? (When implementing PLA, have the algorithm choose a point randomly from the set of misclassified points at each iteration)"
   ]
  },
  {
   "cell_type": "code",
   "execution_count": 16,
   "id": "f6ec99b3",
   "metadata": {
    "scrolled": false
   },
   "outputs": [
    {
     "name": "stdout",
     "output_type": "stream",
     "text": [
      "average number of iterations needed: 4.199\n"
     ]
    }
   ],
   "source": [
    "iter_list = [] # this will keep track of the number of iterations per run\n",
    "\n",
    "for trial in range(1000):\n",
    "    \n",
    "    #generate data set\n",
    "    \n",
    "    #generate target function\n",
    "    pts = []\n",
    "    for i in range(4):\n",
    "        pts.append(random.uniform(-1,1))\n",
    "    slope = (pts[3]-pts[1])/(pts[2]-pts[0])\n",
    "    intercept = pts[1] - slope*pts[0]\n",
    "    mult = random.choice([-1,1])\n",
    "\n",
    "    #generate training set\n",
    "    train_set_x = []\n",
    "    train_set_y = []\n",
    "    for _ in range(10):\n",
    "        x = random.uniform(-1,1)\n",
    "        y = random.uniform(-1,1)\n",
    "        label = eval_f(x,y)\n",
    "        train_set_x.append(np.array([1.0,x,y]))\n",
    "        train_set_y.append(label)\n",
    "        \n",
    "    X = np.matrix(train_set_x)\n",
    "    y = np.array(train_set_y)\n",
    "    \n",
    "    #run linear regression alg\n",
    "\n",
    "    #calculate pseudo-inverse of X\n",
    "    A = inv(np.matmul(X.transpose(),X))\n",
    "    X_dag = np.matmul(A,X.transpose())\n",
    "    \n",
    "    #get weights w\n",
    "    w = np.matmul(X_dag,y)\n",
    "    \n",
    "    #run PLA\n",
    "    \n",
    "    finished = False \n",
    "    iterations = 0\n",
    "    while (finished != True):\n",
    "        idx_list = []\n",
    "        for idx in range(10):\n",
    "            if np.sign(np.dot(w,train_set_x[idx])) != train_set_y[idx]:\n",
    "                idx_list.append(idx)\n",
    "        if len(idx_list) != 0:\n",
    "            idx_to_choose = random.choice(idx_list)\n",
    "            w = w + train_set_y[idx_to_choose]*train_set_x[idx_to_choose]\n",
    "            iterations += 1\n",
    "        else:\n",
    "            finished = True\n",
    "    iter_list.append(iterations)\n",
    "    \n",
    "print(f'average number of iterations needed: {mean(iter_list)}')"
   ]
  },
  {
   "cell_type": "markdown",
   "id": "acf83d20",
   "metadata": {},
   "source": [
    "Correct Answer: **A** (closest to 1)"
   ]
  },
  {
   "cell_type": "markdown",
   "id": "b9831f57",
   "metadata": {},
   "source": [
    "# Nonlinear Transformation"
   ]
  },
  {
   "cell_type": "markdown",
   "id": "415bcdb7",
   "metadata": {},
   "source": [
    "In these problems, we again apply Linear Regression for classification. Consider the target function:\n",
    "\n",
    "\\begin{equation}\n",
    "f(x_1,x_2) = \\text{sign}(x_1^2 + x_2^2 - 0.6)\n",
    "\\end{equation}"
   ]
  },
  {
   "cell_type": "markdown",
   "id": "73b414c4",
   "metadata": {},
   "source": [
    "Generate a training set of $N = 1000$ points on $\\mathcal{X} = [−1, 1] \\times [−1, 1]$ with a uniform probability of picking each $x \\in X$. Generate simulated noise by flipping the sign of the output in a randomly selected 10% subset of the generated training set."
   ]
  },
  {
   "cell_type": "markdown",
   "id": "8da28dba",
   "metadata": {},
   "source": [
    "## Question 8:"
   ]
  },
  {
   "cell_type": "markdown",
   "id": "1fb7ab1d",
   "metadata": {},
   "source": [
    "Carry out Linear Regression without transformation, i.e., with feature vector $(1,x_1,x_2)$ to find the weight $w$. What is the closest value to the classification in-sample error $E_{in}$?"
   ]
  },
  {
   "cell_type": "code",
   "execution_count": 32,
   "id": "d5081715",
   "metadata": {},
   "outputs": [],
   "source": [
    "# generates a feature set in the form of a list of numpy arrays.\n",
    "# n = number of points generated (integer)\n",
    "# points will be in 2D and each co-ordinate is between -1 and 1\n",
    "\n",
    "def feature_set_generator(n):\n",
    "    train_set = []\n",
    "    for _ in range(n):\n",
    "        x_1 = random.uniform(-1,1)\n",
    "        x_2 = random.uniform(-1,1)\n",
    "        train_set.append(np.array([1.0,x_1,x_2]))\n",
    "        \n",
    "    return train_set"
   ]
  },
  {
   "cell_type": "code",
   "execution_count": 35,
   "id": "028bbc7a",
   "metadata": {},
   "outputs": [],
   "source": [
    "def target_function(x,y):\n",
    "    output = np.sign(x*x + y*y - 0.6)\n",
    "    return output "
   ]
  },
  {
   "cell_type": "code",
   "execution_count": 47,
   "id": "a4e434e4",
   "metadata": {},
   "outputs": [],
   "source": [
    "train_set = feature_set_generator(1000)\n",
    "\n",
    "train_set_labels = []\n",
    "\n",
    "for elt in train_set:\n",
    "    train_set_labels.append(target_function(elt[1],elt[2]))\n",
    "\n",
    "#generate noise by flipping signs on 10% of data\n",
    "labels_to_change = random.sample(list(range(len(train_set_labels))),100)\n",
    "for idx in labels_to_change:\n",
    "    train_set_labels[idx] *= -1\n"
   ]
  },
  {
   "cell_type": "code",
   "execution_count": 83,
   "id": "e9821ba2",
   "metadata": {
    "scrolled": true
   },
   "outputs": [
    {
     "data": {
      "image/png": "[encoded data removed]",
      "text/plain": [
       "<Figure size 432x288 with 1 Axes>"
      ]
     },
     "metadata": {
      "needs_background": "light"
     },
     "output_type": "display_data"
    }
   ],
   "source": [
    "# plotting points to visualize the noise spread\n",
    "\n",
    "import matplotlib.pyplot as plt\n",
    "\n",
    "x_s = []\n",
    "y_s = []\n",
    "for data in train_set:\n",
    "    x_s.append(data[1])\n",
    "    y_s.append(data[2])\n",
    "\n",
    "plt.scatter(x_s,y_s,c = train_set_labels, cmap='bwr')\n",
    "\n",
    "plt.show()"
   ]
  },
  {
   "cell_type": "code",
   "execution_count": 53,
   "id": "76fd6436",
   "metadata": {
    "scrolled": true
   },
   "outputs": [
    {
     "name": "stdout",
     "output_type": "stream",
     "text": [
      "In sample error = 0.566\n"
     ]
    }
   ],
   "source": [
    "# Linear regression algorithm\n",
    "\n",
    "X = np.matrix(train_set)\n",
    "y = np.array(train_set_labels)\n",
    "\n",
    "#calculate pseudo-inverse of X\n",
    "\n",
    "A = inv(np.matmul(X.transpose(),X))\n",
    "X_dag = np.matmul(A,X.transpose())\n",
    "\n",
    "#get weights w\n",
    "w = np.matmul(X_dag,y)\n",
    "\n",
    "#calculate in-sample error\n",
    "\n",
    "count = 0\n",
    "for idx in range(len(train_set)):\n",
    "    if np.sign(np.dot(w,train_set[idx])) != train_set_labels[idx]:\n",
    "        count += 1\n",
    "        \n",
    "print(f'In sample error = {count/len(train_set)}')"
   ]
  },
  {
   "cell_type": "markdown",
   "id": "d36b0ae5",
   "metadata": {},
   "source": [
    "Correct Answer: **D** (closest to 0.5)"
   ]
  },
  {
   "cell_type": "markdown",
   "id": "d48fdd71",
   "metadata": {},
   "source": [
    "## Question 9:"
   ]
  },
  {
   "cell_type": "markdown",
   "id": "60f80337",
   "metadata": {},
   "source": [
    "Now, transform the $N = 1000$ training data into the following nonlinear feature vector: $(1,x_1,x_2,x_1x_2,x_1^2,x_2^2)$"
   ]
  },
  {
   "cell_type": "markdown",
   "id": "53062c3b",
   "metadata": {},
   "source": [
    "Find the vector $\\tilde{w}$ that corresponds to the solution of Linear Regression. Which of the following hypotheses is closest to the one you find?"
   ]
  },
  {
   "cell_type": "code",
   "execution_count": 79,
   "id": "7719e6a5",
   "metadata": {},
   "outputs": [
    {
     "name": "stdout",
     "output_type": "stream",
     "text": [
      "[[-9.94171836e-01  8.83833367e-04 -3.96756639e-04 -1.62193022e-06\n",
      "   1.55931324e+00  1.56135029e+00]]\n"
     ]
    }
   ],
   "source": [
    "list_of_weights = []\n",
    "\n",
    "for experiment in range(1000):\n",
    "    \n",
    "    #generate training data:\n",
    "    train_set = feature_set_generator(1000)\n",
    "    \n",
    "    train_set_labels = []\n",
    "\n",
    "    for elt in train_set:\n",
    "        train_set_labels.append(target_function(elt[1],elt[2]))\n",
    "\n",
    "    #generate noise by flipping signs on 10% of data\n",
    "    labels_to_change = random.sample(list(range(len(train_set_labels))),100)\n",
    "    for idx in labels_to_change:\n",
    "        train_set_labels[idx] *= -1\n",
    "\n",
    "    # transforming training data:\n",
    "\n",
    "    new_feature_set = []\n",
    "\n",
    "    for elt in train_set:\n",
    "        x_1 = elt[1]\n",
    "        x_2 = elt[2]\n",
    "        new_feature_set.append(np.array([1.0,x_1,x_2,x_1*x_2,x_1*x_1,x_2*x_2]))\n",
    "\n",
    "    # Linear regression algorithm\n",
    "\n",
    "    X_new = np.matrix(new_feature_set)\n",
    "    y = np.array(train_set_labels)\n",
    "\n",
    "    #calculate pseudo-inverse of X_new\n",
    "\n",
    "    A = inv(np.matmul(X_new.transpose(),X_new))\n",
    "    X_dag = np.matmul(A,X_new.transpose())\n",
    "\n",
    "    #get weights w\n",
    "    w = np.matmul(X_dag,y)\n",
    "    \n",
    "    list_of_weights.append(w)\n",
    "    \n",
    "print(np.average(list_of_weights,axis=0))\n"
   ]
  },
  {
   "cell_type": "markdown",
   "id": "4d101561",
   "metadata": {},
   "source": [
    "Correct Answer: **A** \n",
    "\n",
    "closest to: $$g(x_1,x_2) = \\text{sign}(-1 - 0.05x_1 + 0.08x_2 + 0.12x_1x_2 + 1.5x_1^2 + 1.5x_2^2)$$"
   ]
  },
  {
   "cell_type": "markdown",
   "id": "dd817109",
   "metadata": {},
   "source": [
    "## Question 10:"
   ]
  },
  {
   "cell_type": "markdown",
   "id": "501c5f18",
   "metadata": {},
   "source": [
    "What is the closest value to the classification out-of-sample error $E_{out}$ of your hypothesis from Problem 9?"
   ]
  },
  {
   "cell_type": "code",
   "execution_count": 81,
   "id": "163c5493",
   "metadata": {},
   "outputs": [
    {
     "name": "stdout",
     "output_type": "stream",
     "text": [
      "Average accuracy over 1000 runs is: 0.126413\n"
     ]
    }
   ],
   "source": [
    "counts = [] #will keep track of out of sample error rate across the \n",
    "\n",
    "for weights in list_of_weights: #1000 runs of the experiment above\n",
    "    \n",
    "    #generate testing set \n",
    "    testing_set = feature_set_generator(1000)\n",
    "\n",
    "    testing_set_labels = []\n",
    "\n",
    "    for elt in testing_set:\n",
    "        testing_set_labels.append(target_function(elt[1],elt[2]))\n",
    "\n",
    "    #generate noise by flipping signs on 10% of data\n",
    "    labels_to_change = random.sample(list(range(len(testing_set_labels))),100)\n",
    "    for idx in labels_to_change:\n",
    "        testing_set_labels[idx] *= -1\n",
    "    \n",
    "    count = 0 #will keep track of how often predictions are incorrect\n",
    "    \n",
    "    for idx in range(len(testing_set)):\n",
    "        x_1 = testing_set[idx][1]\n",
    "        x_2 = testing_set[idx][2]\n",
    "        \n",
    "        mapped_data = np.array([1.0,x_1,x_2,x_1*x_2,x_1*x_1,x_2*x_2])\n",
    "\n",
    "        predicted_label = np.sign(np.dot(weights,mapped_data))\n",
    "\n",
    "        if predicted_label != testing_set_labels[idx]:\n",
    "            count += 1\n",
    "            \n",
    "    counts.append(count/len(testing_set))\n",
    "    \n",
    "print(f'Average accuracy over 1000 runs is: {mean(counts)}')"
   ]
  },
  {
   "cell_type": "markdown",
   "id": "3704a518",
   "metadata": {},
   "source": [
    "Correct Answer: **B** (closest to 0.1)"
   ]
  }
 ],
 "metadata": {
  "kernelspec": {
   "display_name": "Python 3 (ipykernel)",
   "language": "python",
   "name": "python3"
  },
  "language_info": {
   "codemirror_mode": {
    "name": "ipython",
    "version": 3
   },
   "file_extension": ".py",
   "mimetype": "text/x-python",
   "name": "python",
   "nbconvert_exporter": "python",
   "pygments_lexer": "ipython3",
   "version": "3.8.10"
  }
 },
 "nbformat": 4,
 "nbformat_minor": 5
}
